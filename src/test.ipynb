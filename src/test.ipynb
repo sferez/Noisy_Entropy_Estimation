{
 "cells": [
  {
   "cell_type": "markdown",
   "source": [
    "# COMBINE DATA"
   ],
   "metadata": {
    "collapsed": false
   }
  },
  {
   "cell_type": "code",
   "execution_count": 16,
   "outputs": [
    {
     "name": "stdout",
     "output_type": "stream",
     "text": [
      "BBCNews_2011-01-01_2012-01-01.csv\n",
      "BBCNews_2012-01-01_2013-01-01.csv\n",
      "BBCNews_2007-01-01_2008-01-01.csv\n",
      "BBCNews_2009-01-01_2010-01-01.csv\n",
      "BBCNews_2010-01-01_2011-01-01.csv\n",
      "BBCNews_2008-01-01_2009-01-01.csv\n"
     ]
    }
   ],
   "source": [
    "import os\n",
    "import pandas as pd\n",
    "\n",
    "# Define your directory\n",
    "directory = '../data/raw/bbcnews'\n",
    "final = 'bbcnews_all.csv'\n",
    "# Get a list of all csv files\n",
    "files = [f for f in os.listdir(directory) if f.endswith('.csv')]\n",
    "\n",
    "for f in files:\n",
    "    print(f)\n",
    "\n",
    "# Create full file paths\n",
    "full_paths = [os.path.join(directory, f) for f in files]\n",
    "\n",
    "# Read the files into dataframes and store in a list\n",
    "dfs = [pd.read_csv(fp) for fp in full_paths]\n",
    "\n",
    "# Concatenate all dataframes\n",
    "df = pd.concat(dfs, ignore_index=True)\n",
    "\n",
    "# Save the result to a new CSV file\n",
    "df.to_csv(os.path.join(directory, final), index=False)\n"
   ],
   "metadata": {
    "collapsed": false,
    "ExecuteTime": {
     "end_time": "2023-05-28T16:02:27.296785Z",
     "start_time": "2023-05-28T16:02:26.132896Z"
    }
   }
  },
  {
   "cell_type": "code",
   "execution_count": 17,
   "outputs": [
    {
     "data": {
      "text/plain": "<Figure size 1000x600 with 1 Axes>",
      "image/png": "[encoded data removed]"
     },
     "metadata": {},
     "output_type": "display_data"
    }
   ],
   "source": [
    "import pandas as pd\n",
    "import matplotlib.pyplot as plt\n",
    "import seaborn as sns\n",
    "\n",
    "# Load your data\n",
    "df = pd.read_csv('../data/raw/bbcnews/bbcnews_all.csv')\n",
    "\n",
    "# Convert Timestamp to datetime\n",
    "df['Timestamp'] = pd.to_datetime(df['Timestamp'])\n",
    "\n",
    "# Set Timestamp as index (this is required for resampling)\n",
    "df.set_index('Timestamp', inplace=True)\n",
    "\n",
    "# Resample the data to daily frequency, count the number of tweets per day\n",
    "df_daily = df.resample('D').count()\n",
    "\n",
    "# Reset index so that 'Timestamp' becomes a column again\n",
    "df_daily.reset_index(inplace=True)\n",
    "\n",
    "# Plot the data\n",
    "plt.figure(figsize=(10, 6))\n",
    "sns.barplot(x='Timestamp', y='Tweet_ID', data=df_daily)\n",
    "plt.title('Number of tweets over time')\n",
    "plt.xlabel('Date')\n",
    "plt.xticks([])\n",
    "plt.ylabel('Number of tweets')\n",
    "plt.show()\n"
   ],
   "metadata": {
    "collapsed": false,
    "ExecuteTime": {
     "end_time": "2023-05-28T16:02:43.132737Z",
     "start_time": "2023-05-28T16:02:36.846529Z"
    }
   }
  },
  {
   "cell_type": "code",
   "execution_count": 18,
   "outputs": [
    {
     "data": {
      "text/plain": "84197"
     },
     "execution_count": 18,
     "metadata": {},
     "output_type": "execute_result"
    }
   ],
   "source": [
    "len(df)"
   ],
   "metadata": {
    "collapsed": false,
    "ExecuteTime": {
     "end_time": "2023-05-28T16:02:47.834353Z",
     "start_time": "2023-05-28T16:02:47.816169Z"
    }
   }
  },
  {
   "cell_type": "markdown",
   "source": [
    "# COVID"
   ],
   "metadata": {
    "collapsed": false
   }
  },
  {
   "cell_type": "code",
   "execution_count": 1,
   "outputs": [],
   "source": [
    "\n"
   ],
   "metadata": {
    "collapsed": false,
    "ExecuteTime": {
     "end_time": "2023-05-29T16:52:00.682770Z",
     "start_time": "2023-05-29T16:52:00.558524Z"
    }
   }
  },
  {
   "cell_type": "code",
   "execution_count": 2,
   "outputs": [],
   "source": [
    "from dataAquisition.utils import get_metadata\n",
    "ids = [\n",
    "    1262896733102669825,\n",
    "    1262896733169881088,\n",
    "    1262896733312487431,\n",
    "    1262896733341843458,\n",
    "    1262896733421547520,\n",
    "]\n",
    "\n",
    "t = twarc.Twarc2(\n",
    "    consumer_key= consumer_key,\n",
    "    consumer_secret= consumer_secret,\n",
    "    access_token= acces_token,\n",
    "    access_token_secret= acces_token_secret\n",
    ")\n",
    "\n",
    "tweets = get_metadata(ids, t)\n",
    "\n"
   ],
   "metadata": {
    "collapsed": false,
    "ExecuteTime": {
     "end_time": "2023-05-29T16:52:03.985208Z",
     "start_time": "2023-05-29T16:52:03.520253Z"
    }
   }
  },
  {
   "cell_type": "code",
   "execution_count": 6,
   "outputs": [
    {
     "data": {
      "text/plain": "{'edit_history_tweet_ids': ['1262896733312487431'],\n 'created_at': '2020-05-20T00:03:39.000Z',\n 'lang': 'es',\n 'id': '1262896733312487431',\n 'author_id': '846899281806082053',\n 'text': 'La @SSalud_mx actualizará los casos de #COVID19 en México. \\n\\nhttps://t.co/cw5bUClruO'}"
     },
     "execution_count": 6,
     "metadata": {},
     "output_type": "execute_result"
    }
   ],
   "source": [
    "tweets[2]"
   ],
   "metadata": {
    "collapsed": false,
    "ExecuteTime": {
     "end_time": "2023-05-29T16:52:28.165791Z",
     "start_time": "2023-05-29T16:52:28.156683Z"
    }
   }
  },
  {
   "cell_type": "code",
   "execution_count": 84,
   "outputs": [
    {
     "name": "stdout",
     "output_type": "stream",
     "text": [
      "#BrasilComBolsonaro https://t.co/ro46y6jE0T\n"
     ]
    }
   ],
   "source": [],
   "metadata": {
    "collapsed": false,
    "ExecuteTime": {
     "end_time": "2023-05-29T16:27:35.703740Z",
     "start_time": "2023-05-29T16:27:35.242642Z"
    }
   }
  },
  {
   "cell_type": "code",
   "execution_count": 67,
   "outputs": [],
   "source": [
    "# read generator results into a list\n",
    "tweets = list(r)"
   ],
   "metadata": {
    "collapsed": false,
    "ExecuteTime": {
     "end_time": "2023-05-29T16:21:19.057634Z",
     "start_time": "2023-05-29T16:21:18.476188Z"
    }
   }
  },
  {
   "cell_type": "code",
   "execution_count": 57,
   "outputs": [],
   "source": [
    "for tweet in tweets:\n",
    "    print(tweet)"
   ],
   "metadata": {
    "collapsed": false,
    "ExecuteTime": {
     "end_time": "2023-05-29T13:22:48.916303Z",
     "start_time": "2023-05-29T13:22:48.912932Z"
    }
   }
  },
  {
   "cell_type": "code",
   "execution_count": 63,
   "outputs": [
    {
     "name": "stdout",
     "output_type": "stream",
     "text": [
      "[]\n"
     ]
    }
   ],
   "source": [
    "print(tweets)"
   ],
   "metadata": {
    "collapsed": false,
    "ExecuteTime": {
     "end_time": "2023-05-29T13:23:13.076331Z",
     "start_time": "2023-05-29T13:23:13.066164Z"
    }
   }
  },
  {
   "cell_type": "code",
   "execution_count": 75,
   "outputs": [
    {
     "data": {
      "text/plain": "'qht'"
     },
     "execution_count": 75,
     "metadata": {},
     "output_type": "execute_result"
    }
   ],
   "source": [
    "tweets[0]['data'][0]['lang']"
   ],
   "metadata": {
    "collapsed": false,
    "ExecuteTime": {
     "end_time": "2023-05-29T16:23:59.592235Z",
     "start_time": "2023-05-29T16:23:59.587468Z"
    }
   }
  },
  {
   "cell_type": "code",
   "execution_count": 1,
   "outputs": [],
   "source": [
    "import pandas as pd\n",
    "import datetime"
   ],
   "metadata": {
    "collapsed": false,
    "ExecuteTime": {
     "end_time": "2023-05-30T21:00:52.616780Z",
     "start_time": "2023-05-30T21:00:52.612013Z"
    }
   }
  },
  {
   "cell_type": "code",
   "execution_count": 14,
   "outputs": [],
   "source": [
    "df = pd.read_csv(\"../data/scraping/cnn/cnn_2022-01-01_2023-05-30.csv\")"
   ],
   "metadata": {
    "collapsed": false,
    "ExecuteTime": {
     "end_time": "2023-05-30T21:07:26.825787Z",
     "start_time": "2023-05-30T21:07:26.815375Z"
    }
   }
  },
  {
   "cell_type": "code",
   "execution_count": 15,
   "outputs": [
    {
     "data": {
      "text/plain": "               tweet_id  user_id                 timestamp   \n0   1477322647021228037   759251  2022-01-01T16:55:41.000Z  \\\n1   1477317007813009408   759251  2022-01-01T16:33:16.000Z   \n2   1477282140513611779   759251  2022-01-01T14:14:43.000Z   \n3   1477307624081305603   759251  2022-01-01T15:55:59.000Z   \n4   1477372560295800833   759251  2022-01-01T20:14:01.000Z   \n5   1477369778419470340   759251  2022-01-01T20:02:58.000Z   \n6   1477356036705210370   759251  2022-01-01T19:08:21.000Z   \n7   1477350893989285896   759251  2022-01-01T18:47:55.000Z   \n8   1477364634671796229   759251  2022-01-01T19:42:31.000Z   \n9   1477423162128314372   759251  2022-01-01T23:35:05.000Z   \n10  1477302845930197000   759251  2022-01-01T15:37:00.000Z   \n11  1477319450575704065   759251  2022-01-01T16:42:58.000Z   \n12  1477275659022000132   759251  2022-01-01T13:48:58.000Z   \n13  1477406802870476803   759251  2022-01-01T22:30:05.000Z   \n14  1477347691806040070   759251  2022-01-01T18:35:12.000Z   \n15  1477325269824327681   759251  2022-01-01T17:06:06.000Z   \n16  1477313828660649992   759251  2022-01-01T16:20:38.000Z   \n17  1477296450019209223   759251  2022-01-01T15:11:35.000Z   \n18  1477278069933191173   759251  2022-01-01T13:58:33.000Z   \n19  1477309976637067269   759251  2022-01-01T16:05:20.000Z   \n20  1477267755208433666   759251  2022-01-01T13:17:33.000Z   \n21  1477331347840638978   759251  2022-01-01T17:30:15.000Z   \n22  1477353405047873539   759251  2022-01-01T18:57:54.000Z   \n23  1477391733029842950   759251  2022-01-01T21:30:12.000Z   \n24  1477358632719245321   759251  2022-01-01T19:18:40.000Z   \n25  1477300366341459971   759251  2022-01-01T15:27:08.000Z   \n26  1477345035146383361   759251  2022-01-01T18:24:38.000Z   \n27  1477618449430061066   759251  2022-01-02T12:31:05.000Z   \n28  1477660693163819013   759251  2022-01-02T15:18:57.000Z   \n29  1477686196667101185   759251  2022-01-02T17:00:18.000Z   \n30  1477648399046430722   759251  2022-01-02T14:30:06.000Z   \n31  1477606885826220034   759251  2022-01-02T11:45:08.000Z   \n32  1477780521497378818   759251  2022-01-02T23:15:06.000Z   \n\n                                                 text lang  class  \n0   People around the planet have waved goodbye to...  und      1  \n1   Pope Francis has condemned violence against wo...  und      1  \n2   \"We learned again this year what we've always ...  und      1  \n3   Michelle Odinet resigned Friday after a video ...  und      1  \n4   Nicolas Cage knows it may sound \"pretentious,\"...  und      1  \n5   After a tumultuous 12 months, the royals will ...  und      1  \n6   \"The world looks different now,\" Reynolds wrot...  und      1  \n7   Lone offenders are the most likely threat to t...  und      1  \n8   Cats have caused more than 100 house fires in ...  und      1  \n9   At least two people are missing after a horrif...  und      1  \n10  The high temperature on Saturday is only suppo...  und      1  \n11  Bernard Kerik, the former New York City police...  und      1  \n12  One suspect linked to a shooting that killed a...  und      1  \n13  The Psyche mission, launching in August, will ...  und      1  \n14  Here's what it's like inside the Chicago-area ...  und      1  \n15  Reeves died early Saturday at his home in Atla...  und      1  \n16  The Federal Aviation Administration is warning...  und      1  \n17  Some people love the tradition of setting a go...  und      1  \n18  A growing number of school systems, colleges a...  und      1  \n19  Six people were injured after multiple shooter...  und      1  \n20  North Korean leader Kim Jong Un has again admi...  und      1  \n21  Grammy award winner  @JamesTaylor_com  was dis...  und      1  \n22  These are the movies that mattered in 2021, wh...  und      1  \n23  Renderings of the new Orient Express La Dolce ...  und      1  \n24  Adding self-care to your mile-long to-do list ...  und      1  \n25  Six people were injured in a shooting incident...  und      1  \n26  Need anger management tips? Want to learn abou...  und      1  \n27  A Texas teen spent his childhood unable to tal...  und      1  \n28  JUST IN: Twitter has permanently suspended Geo...  und      1  \n29  At Desmond Tutu's request, the Nobel Peace Pri...  und      1  \n30  Prince Andrew has been asked to provide docume...  und      1  \n31  Footprints discovered on a beach in Wales are ...  und      1  \n32  President Joe Biden told Ukrainian President V...  und      1  ",
      "text/html": "<div>\n<style scoped>\n    .dataframe tbody tr th:only-of-type {\n        vertical-align: middle;\n    }\n\n    .dataframe tbody tr th {\n        vertical-align: top;\n    }\n\n    .dataframe thead th {\n        text-align: right;\n    }\n</style>\n<table border=\"1\" class=\"dataframe\">\n  <thead>\n    <tr style=\"text-align: right;\">\n      <th></th>\n      <th>tweet_id</th>\n      <th>user_id</th>\n      <th>timestamp</th>\n      <th>text</th>\n      <th>lang</th>\n      <th>class</th>\n    </tr>\n  </thead>\n  <tbody>\n    <tr>\n      <th>0</th>\n      <td>1477322647021228037</td>\n      <td>759251</td>\n      <td>2022-01-01T16:55:41.000Z</td>\n      <td>People around the planet have waved goodbye to...</td>\n      <td>und</td>\n      <td>1</td>\n    </tr>\n    <tr>\n      <th>1</th>\n      <td>1477317007813009408</td>\n      <td>759251</td>\n      <td>2022-01-01T16:33:16.000Z</td>\n      <td>Pope Francis has condemned violence against wo...</td>\n      <td>und</td>\n      <td>1</td>\n    </tr>\n    <tr>\n      <th>2</th>\n      <td>1477282140513611779</td>\n      <td>759251</td>\n      <td>2022-01-01T14:14:43.000Z</td>\n      <td>\"We learned again this year what we've always ...</td>\n      <td>und</td>\n      <td>1</td>\n    </tr>\n    <tr>\n      <th>3</th>\n      <td>1477307624081305603</td>\n      <td>759251</td>\n      <td>2022-01-01T15:55:59.000Z</td>\n      <td>Michelle Odinet resigned Friday after a video ...</td>\n      <td>und</td>\n      <td>1</td>\n    </tr>\n    <tr>\n      <th>4</th>\n      <td>1477372560295800833</td>\n      <td>759251</td>\n      <td>2022-01-01T20:14:01.000Z</td>\n      <td>Nicolas Cage knows it may sound \"pretentious,\"...</td>\n      <td>und</td>\n      <td>1</td>\n    </tr>\n    <tr>\n      <th>5</th>\n      <td>1477369778419470340</td>\n      <td>759251</td>\n      <td>2022-01-01T20:02:58.000Z</td>\n      <td>After a tumultuous 12 months, the royals will ...</td>\n      <td>und</td>\n      <td>1</td>\n    </tr>\n    <tr>\n      <th>6</th>\n      <td>1477356036705210370</td>\n      <td>759251</td>\n      <td>2022-01-01T19:08:21.000Z</td>\n      <td>\"The world looks different now,\" Reynolds wrot...</td>\n      <td>und</td>\n      <td>1</td>\n    </tr>\n    <tr>\n      <th>7</th>\n      <td>1477350893989285896</td>\n      <td>759251</td>\n      <td>2022-01-01T18:47:55.000Z</td>\n      <td>Lone offenders are the most likely threat to t...</td>\n      <td>und</td>\n      <td>1</td>\n    </tr>\n    <tr>\n      <th>8</th>\n      <td>1477364634671796229</td>\n      <td>759251</td>\n      <td>2022-01-01T19:42:31.000Z</td>\n      <td>Cats have caused more than 100 house fires in ...</td>\n      <td>und</td>\n      <td>1</td>\n    </tr>\n    <tr>\n      <th>9</th>\n      <td>1477423162128314372</td>\n      <td>759251</td>\n      <td>2022-01-01T23:35:05.000Z</td>\n      <td>At least two people are missing after a horrif...</td>\n      <td>und</td>\n      <td>1</td>\n    </tr>\n    <tr>\n      <th>10</th>\n      <td>1477302845930197000</td>\n      <td>759251</td>\n      <td>2022-01-01T15:37:00.000Z</td>\n      <td>The high temperature on Saturday is only suppo...</td>\n      <td>und</td>\n      <td>1</td>\n    </tr>\n    <tr>\n      <th>11</th>\n      <td>1477319450575704065</td>\n      <td>759251</td>\n      <td>2022-01-01T16:42:58.000Z</td>\n      <td>Bernard Kerik, the former New York City police...</td>\n      <td>und</td>\n      <td>1</td>\n    </tr>\n    <tr>\n      <th>12</th>\n      <td>1477275659022000132</td>\n      <td>759251</td>\n      <td>2022-01-01T13:48:58.000Z</td>\n      <td>One suspect linked to a shooting that killed a...</td>\n      <td>und</td>\n      <td>1</td>\n    </tr>\n    <tr>\n      <th>13</th>\n      <td>1477406802870476803</td>\n      <td>759251</td>\n      <td>2022-01-01T22:30:05.000Z</td>\n      <td>The Psyche mission, launching in August, will ...</td>\n      <td>und</td>\n      <td>1</td>\n    </tr>\n    <tr>\n      <th>14</th>\n      <td>1477347691806040070</td>\n      <td>759251</td>\n      <td>2022-01-01T18:35:12.000Z</td>\n      <td>Here's what it's like inside the Chicago-area ...</td>\n      <td>und</td>\n      <td>1</td>\n    </tr>\n    <tr>\n      <th>15</th>\n      <td>1477325269824327681</td>\n      <td>759251</td>\n      <td>2022-01-01T17:06:06.000Z</td>\n      <td>Reeves died early Saturday at his home in Atla...</td>\n      <td>und</td>\n      <td>1</td>\n    </tr>\n    <tr>\n      <th>16</th>\n      <td>1477313828660649992</td>\n      <td>759251</td>\n      <td>2022-01-01T16:20:38.000Z</td>\n      <td>The Federal Aviation Administration is warning...</td>\n      <td>und</td>\n      <td>1</td>\n    </tr>\n    <tr>\n      <th>17</th>\n      <td>1477296450019209223</td>\n      <td>759251</td>\n      <td>2022-01-01T15:11:35.000Z</td>\n      <td>Some people love the tradition of setting a go...</td>\n      <td>und</td>\n      <td>1</td>\n    </tr>\n    <tr>\n      <th>18</th>\n      <td>1477278069933191173</td>\n      <td>759251</td>\n      <td>2022-01-01T13:58:33.000Z</td>\n      <td>A growing number of school systems, colleges a...</td>\n      <td>und</td>\n      <td>1</td>\n    </tr>\n    <tr>\n      <th>19</th>\n      <td>1477309976637067269</td>\n      <td>759251</td>\n      <td>2022-01-01T16:05:20.000Z</td>\n      <td>Six people were injured after multiple shooter...</td>\n      <td>und</td>\n      <td>1</td>\n    </tr>\n    <tr>\n      <th>20</th>\n      <td>1477267755208433666</td>\n      <td>759251</td>\n      <td>2022-01-01T13:17:33.000Z</td>\n      <td>North Korean leader Kim Jong Un has again admi...</td>\n      <td>und</td>\n      <td>1</td>\n    </tr>\n    <tr>\n      <th>21</th>\n      <td>1477331347840638978</td>\n      <td>759251</td>\n      <td>2022-01-01T17:30:15.000Z</td>\n      <td>Grammy award winner  @JamesTaylor_com  was dis...</td>\n      <td>und</td>\n      <td>1</td>\n    </tr>\n    <tr>\n      <th>22</th>\n      <td>1477353405047873539</td>\n      <td>759251</td>\n      <td>2022-01-01T18:57:54.000Z</td>\n      <td>These are the movies that mattered in 2021, wh...</td>\n      <td>und</td>\n      <td>1</td>\n    </tr>\n    <tr>\n      <th>23</th>\n      <td>1477391733029842950</td>\n      <td>759251</td>\n      <td>2022-01-01T21:30:12.000Z</td>\n      <td>Renderings of the new Orient Express La Dolce ...</td>\n      <td>und</td>\n      <td>1</td>\n    </tr>\n    <tr>\n      <th>24</th>\n      <td>1477358632719245321</td>\n      <td>759251</td>\n      <td>2022-01-01T19:18:40.000Z</td>\n      <td>Adding self-care to your mile-long to-do list ...</td>\n      <td>und</td>\n      <td>1</td>\n    </tr>\n    <tr>\n      <th>25</th>\n      <td>1477300366341459971</td>\n      <td>759251</td>\n      <td>2022-01-01T15:27:08.000Z</td>\n      <td>Six people were injured in a shooting incident...</td>\n      <td>und</td>\n      <td>1</td>\n    </tr>\n    <tr>\n      <th>26</th>\n      <td>1477345035146383361</td>\n      <td>759251</td>\n      <td>2022-01-01T18:24:38.000Z</td>\n      <td>Need anger management tips? Want to learn abou...</td>\n      <td>und</td>\n      <td>1</td>\n    </tr>\n    <tr>\n      <th>27</th>\n      <td>1477618449430061066</td>\n      <td>759251</td>\n      <td>2022-01-02T12:31:05.000Z</td>\n      <td>A Texas teen spent his childhood unable to tal...</td>\n      <td>und</td>\n      <td>1</td>\n    </tr>\n    <tr>\n      <th>28</th>\n      <td>1477660693163819013</td>\n      <td>759251</td>\n      <td>2022-01-02T15:18:57.000Z</td>\n      <td>JUST IN: Twitter has permanently suspended Geo...</td>\n      <td>und</td>\n      <td>1</td>\n    </tr>\n    <tr>\n      <th>29</th>\n      <td>1477686196667101185</td>\n      <td>759251</td>\n      <td>2022-01-02T17:00:18.000Z</td>\n      <td>At Desmond Tutu's request, the Nobel Peace Pri...</td>\n      <td>und</td>\n      <td>1</td>\n    </tr>\n    <tr>\n      <th>30</th>\n      <td>1477648399046430722</td>\n      <td>759251</td>\n      <td>2022-01-02T14:30:06.000Z</td>\n      <td>Prince Andrew has been asked to provide docume...</td>\n      <td>und</td>\n      <td>1</td>\n    </tr>\n    <tr>\n      <th>31</th>\n      <td>1477606885826220034</td>\n      <td>759251</td>\n      <td>2022-01-02T11:45:08.000Z</td>\n      <td>Footprints discovered on a beach in Wales are ...</td>\n      <td>und</td>\n      <td>1</td>\n    </tr>\n    <tr>\n      <th>32</th>\n      <td>1477780521497378818</td>\n      <td>759251</td>\n      <td>2022-01-02T23:15:06.000Z</td>\n      <td>President Joe Biden told Ukrainian President V...</td>\n      <td>und</td>\n      <td>1</td>\n    </tr>\n  </tbody>\n</table>\n</div>"
     },
     "execution_count": 15,
     "metadata": {},
     "output_type": "execute_result"
    }
   ],
   "source": [
    "df"
   ],
   "metadata": {
    "collapsed": false,
    "ExecuteTime": {
     "end_time": "2023-05-30T21:07:27.433949Z",
     "start_time": "2023-05-30T21:07:27.428160Z"
    }
   }
  },
  {
   "cell_type": "code",
   "execution_count": null,
   "outputs": [],
   "source": [],
   "metadata": {
    "collapsed": false
   }
  }
 ],
 "metadata": {
  "kernelspec": {
   "display_name": "Python 3 (ipykernel)",
   "language": "python",
   "name": "python3"
  },
  "language_info": {
   "codemirror_mode": {
    "name": "ipython",
    "version": 2
   },
   "file_extension": ".py",
   "mimetype": "text/x-python",
   "name": "python",
   "nbconvert_exporter": "python",
   "pygments_lexer": "ipython2",
   "version": "2.7.6"
  }
 },
 "nbformat": 4,
 "nbformat_minor": 1
}
