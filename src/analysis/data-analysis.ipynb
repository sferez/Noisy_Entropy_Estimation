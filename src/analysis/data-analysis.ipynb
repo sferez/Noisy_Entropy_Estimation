{
 "cells": [
  {
   "cell_type": "markdown",
   "source": [
    "# Data Analysis\n",
    "Get insights from the data, and generate visualizations to help understand the data better."
   ],
   "metadata": {
    "collapsed": false
   },
   "id": "bd48222419bdd3f"
  },
  {
   "cell_type": "markdown",
   "source": [
    "## Import dependencies"
   ],
   "metadata": {
    "collapsed": false
   },
   "id": "943148542f6fa017"
  },
  {
   "cell_type": "code",
   "execution_count": 1,
   "id": "initial_id",
   "metadata": {
    "collapsed": true,
    "ExecuteTime": {
     "end_time": "2023-08-09T08:05:02.622162Z",
     "start_time": "2023-08-09T08:05:02.269288Z"
    }
   },
   "outputs": [],
   "source": [
    "from preliminary_analysis_tweet import run_tweet_analysis\n",
    "from preliminary_analysis_text import run_text_analysis\n",
    "from preliminary_analysis_code import run_code_analysis"
   ]
  },
  {
   "cell_type": "markdown",
   "source": [
    "## Run Analysis on Tweets\n",
    "Args:\n",
    "- file: path to the csv file (String)\n",
    "- save: whether to save the generated plots (Boolean)"
   ],
   "metadata": {
    "collapsed": false
   },
   "id": "68a8a5195ce2a258"
  },
  {
   "cell_type": "code",
   "execution_count": null,
   "outputs": [],
   "source": [
    "run_tweet_analysis(\n",
    "    file= \"../../data/scraping-cleaned/ukraine_russia_fr.csv\",\n",
    "    save=True)"
   ],
   "metadata": {
    "collapsed": false
   },
   "id": "5ca0a24040ee418d"
  },
  {
   "cell_type": "markdown",
   "source": [
    "## Run Analysis on Code\n",
    "Args:\n",
    "- file: path to the csv file (String)\n",
    "- save: whether to save the generated plots (Boolean)"
   ],
   "metadata": {
    "collapsed": false
   },
   "id": "1f496b8c862d3741"
  },
  {
   "cell_type": "code",
   "execution_count": null,
   "outputs": [],
   "source": [
    "run_code_analysis(\n",
    "    file= \"/Volumes/shared/Noisy_Entropy_Estimation/data/code/Java/clean_w_ALL/Java_clean_w_ALL.csv\",\n",
    "    save=True)"
   ],
   "metadata": {
    "collapsed": false,
    "is_executing": true,
    "ExecuteTime": {
     "start_time": "2023-08-09T08:14:43.176636Z"
    }
   },
   "id": "4441eb7617b63812"
  },
  {
   "cell_type": "markdown",
   "source": [
    "## Run Analysis on Text\n",
    "Args:\n",
    "- file: path to the csv file (String)\n",
    "- save: whether to save the generated plots (Boolean)"
   ],
   "metadata": {
    "collapsed": false
   },
   "id": "533b934f3e55371e"
  },
  {
   "cell_type": "code",
   "execution_count": null,
   "outputs": [],
   "source": [
    "run_text_analysis(\n",
    "    file = \"../../data/books/alice29.txt\",\n",
    "    save=True)"
   ],
   "metadata": {
    "collapsed": false
   },
   "id": "fd8767b610850ef0"
  }
 ],
 "metadata": {
  "kernelspec": {
   "display_name": "Python 3",
   "language": "python",
   "name": "python3"
  },
  "language_info": {
   "codemirror_mode": {
    "name": "ipython",
    "version": 2
   },
   "file_extension": ".py",
   "mimetype": "text/x-python",
   "name": "python",
   "nbconvert_exporter": "python",
   "pygments_lexer": "ipython2",
   "version": "2.7.6"
  }
 },
 "nbformat": 4,
 "nbformat_minor": 5
}
